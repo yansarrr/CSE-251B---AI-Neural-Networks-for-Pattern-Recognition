{
 "cells": [
  {
   "cell_type": "code",
   "execution_count": 16,
   "metadata": {},
   "outputs": [],
   "source": [
    "import torch\n",
    "\n",
    "from generate import generate_text\n",
    "from util import encode_text\n",
    "from config import load_config\n",
    "\n",
    "from shakespeare_lstm import LSTMModel\n",
    "from shakespeare_rnn import RNNModel"
   ]
  },
  {
   "cell_type": "code",
   "execution_count": 21,
   "metadata": {},
   "outputs": [
    {
     "name": "stdout",
     "output_type": "stream",
     "text": [
      "Macbeth\n",
      " by William Shakespeare\n",
      " Edited by Barbara A. Mowat and Paul Werstine,\n",
      "Thy sovereisured ham accifence to war.\n",
      "\n",
      "HERMIONE:\n",
      "The tith of suit set great as little visit him,\n",
      "Which you will weal all the hazard shows\n",
      "And I will to the son's so.\n",
      "\n",
      "BIANCA:\n",
      "I! the more sittle gentle is son with slain,\n",
      "To see no crown'd me and as divise\n",
      "To time the chilling and dishonours shook'st:\n",
      "That musical paragon as\n",
      "The white all, of the matter king,\n",
      "As I late usurped foil the pardon\n",
      "Of what make him, that if the stood of us,\n",
      "And in glasse upon the goverty sludge\n",
      "Than respect that life things and two thou likerss,\n",
      "I have no dress with vain of my court\n",
      "Shall do my father of heaven within the fortune\n",
      "That is come shut upon the ocking with some\n",
      "Than down to express to curse to my choose--\n",
      "\n",
      "GONZALO:\n",
      "Then in the traces to know it one it before\n",
      "'Tis but not it than my bodies.\n",
      "\n",
      "BRUTUS:\n",
      "How his air Tybalt; and what is this\n",
      "begun, as she have so the children's heads;\n",
      "Or change on a moon of the mind:\n",
      "I kneel Henry, and speak at pity.\n",
      "\n",
      "QUEEN MARGARET:\n",
      "What, that here's that be so distin\n"
     ]
    }
   ],
   "source": [
    "input_file = 'data/tiny_shakespeare.txt'\n",
    "device = torch.device(\"cuda\" if torch.cuda.is_available() else \"cpu\")\n",
    "\n",
    "encoded_text, vocab_size, char_to_idx, idx_to_char = encode_text(input_file)\n",
    "\n",
    "# Manually input the config\n",
    "embed_size = 100\n",
    "hidden_size = 150\n",
    "num_layers = 2\n",
    "vocab_size = 65\n",
    "\n",
    "model = LSTMModel(vocab_size=vocab_size,\n",
    "                  embed_size=embed_size,\n",
    "                  hidden_size=hidden_size,\n",
    "                  num_layers=num_layers)\n",
    "\n",
    "model_path = 'models/LSTM_seq_len_512.pth'\n",
    "model.load_state_dict(torch.load(model_path, weights_only=True))\n",
    "\n",
    "# Example usage\n",
    "generated = generate_text(model, device, char_to_idx, idx_to_char, max_len= 1000, temp=0.8)\n",
    "print(generated)"
   ]
  },
  {
   "cell_type": "code",
   "execution_count": null,
   "metadata": {},
   "outputs": [],
   "source": []
  }
 ],
 "metadata": {
  "kernelspec": {
   "display_name": "Python 3",
   "language": "python",
   "name": "python3"
  },
  "language_info": {
   "codemirror_mode": {
    "name": "ipython",
    "version": 3
   },
   "file_extension": ".py",
   "mimetype": "text/x-python",
   "name": "python",
   "nbconvert_exporter": "python",
   "pygments_lexer": "ipython3",
   "version": "3.13.1"
  }
 },
 "nbformat": 4,
 "nbformat_minor": 4
}
