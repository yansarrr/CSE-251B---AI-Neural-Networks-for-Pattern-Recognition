{
 "cells": [
  {
   "cell_type": "markdown",
   "id": "170a3eb4",
   "metadata": {},
   "source": [
    "# Dependencies\n",
    "\n",
    "Feel free to modify the seed to show different images!  \n",
    "Just make sure different models are compared on the same set of images."
   ]
  },
  {
   "cell_type": "code",
   "execution_count": 13,
   "id": "e9e74c79",
   "metadata": {},
   "outputs": [
    {
     "data": {
      "text/plain": [
       "<torch._C.Generator at 0x1d08555a030>"
      ]
     },
     "execution_count": 13,
     "metadata": {},
     "output_type": "execute_result"
    }
   ],
   "source": [
    "import matplotlib.pyplot as plt\n",
    "\n",
    "import torch\n",
    "from torchvision import transforms\n",
    "import torchvision.transforms as standard_transforms\n",
    "from torch.utils.data import DataLoader\n",
    "from voc import VOC\n",
    "\n",
    "import numpy as np\n",
    "\n",
    "torch.manual_seed(2025)"
   ]
  },
  {
   "cell_type": "markdown",
   "id": "cfc79b50",
   "metadata": {},
   "source": [
    "# Mapping Class to Color"
   ]
  },
  {
   "cell_type": "code",
   "execution_count": 14,
   "id": "1053a427",
   "metadata": {},
   "outputs": [],
   "source": [
    "'''\n",
    "color map\n",
    "0=background, 1=aeroplane, 2=bicycle, 3=bird, 4=boat, 5=bottle # 6=bus, 7=car, 8=cat, 9=chair, 10=cow, 11=diningtable,\n",
    "12=dog, 13=horse, 14=motorbike, 15=person # 16=potted plant, 17=sheep, 18=sofa, 19=train, 20=tv/monitor\n",
    "'''\n",
    "\n",
    "noToClass = {\n",
    "    0:\"background\", 1:\"aeroplane\", 2:\"bicycle\", 3:\"bird\", 4:\"boat\", 5:\"bottle\", 6:\"bus\", 7:\"car\", 8:\"cat\", 9:\"chair\", 10:\"cow\", 11:\"dining table\",\n",
    "12:\"dog\", 13:\"horse\", 14:\"motorbike\", 15:\"person\", 16:\"potted plant\", 17:\"sheep\", 18:\"sofa\", 19:\"train\", 20:\"tv/monitor\"\n",
    "}\n",
    "\n",
    "palette = [0, 0, 0, 128, 0, 0, 0, 128, 0, 128, 128, 0, 0, 0, 128, 128, 0, 128, 0, 128, 128,\n",
    "           128, 128, 128, 64, 0, 0, 192, 0, 0, 64, 128, 0, 192, 128, 0, 64, 0, 128, 192, 0, 128,\n",
    "           64, 128, 128, 192, 128, 128, 0, 64, 0, 128, 64, 0, 0, 192, 0, 128, 192, 0, 0, 64, 128]  #3 values- R,G,B for every class. First 3 values for class 0, next 3 for\n",
    "\n",
    "\"\"\"\n",
    "    Convert palette to map class number to RGB color.\n",
    "\n",
    "    Expected output, python dictionary with 21 integer keys, each value being a array of size 3\n",
    "\"\"\"\n",
    "dicti = {}\n",
    "c = 0\n",
    "for i in range(0,len(palette),3):\n",
    "    dicti[c] = palette[i:i+3]\n",
    "    c+=1\n",
    "\n",
    "palette = dicti"
   ]
  },
  {
   "cell_type": "markdown",
   "id": "d1cb5f0c",
   "metadata": {},
   "source": [
    "# DataLoading"
   ]
  },
  {
   "cell_type": "code",
   "execution_count": 15,
   "id": "4585a336",
   "metadata": {},
   "outputs": [],
   "source": [
    "# TODO Rewrite the following transformations if needed for your models.\n",
    "img_transform = transforms.Compose([\n",
    "    transforms.ToTensor(),\n",
    "    transforms.Normalize([0.485, 0.456, 0.406], [0.229, 0.224, 0.225])\n",
    "])\n",
    "mask_transform = transforms.Compose([\n",
    "    transforms.ToTensor(),\n",
    "])"
   ]
  },
  {
   "cell_type": "code",
   "execution_count": 16,
   "id": "8d9f4d95",
   "metadata": {},
   "outputs": [
    {
     "ename": "RuntimeError",
     "evalue": "Found 0 images, please check the data set",
     "output_type": "error",
     "traceback": [
      "\u001b[1;31m---------------------------------------------------------------------------\u001b[0m",
      "\u001b[1;31mRuntimeError\u001b[0m                              Traceback (most recent call last)",
      "Cell \u001b[1;32mIn[16], line 2\u001b[0m\n\u001b[0;32m      1\u001b[0m batch_size \u001b[38;5;241m=\u001b[39m \u001b[38;5;241m1\u001b[39m\n\u001b[1;32m----> 2\u001b[0m DS \u001b[38;5;241m=\u001b[39m \u001b[43mVOC\u001b[49m\u001b[43m(\u001b[49m\u001b[38;5;124;43m\"\u001b[39;49m\u001b[38;5;124;43mtest\u001b[39;49m\u001b[38;5;124;43m\"\u001b[39;49m\u001b[43m,\u001b[49m\u001b[43m \u001b[49m\u001b[43mimg_transform\u001b[49m\u001b[43m,\u001b[49m\u001b[43m \u001b[49m\u001b[43mmask_transform\u001b[49m\u001b[43m)\u001b[49m\n\u001b[0;32m      3\u001b[0m DL \u001b[38;5;241m=\u001b[39m DataLoader(DS, batch_size\u001b[38;5;241m=\u001b[39mbatch_size, shuffle\u001b[38;5;241m=\u001b[39m\u001b[38;5;28;01mTrue\u001b[39;00m)\n\u001b[0;32m      5\u001b[0m first_batch \u001b[38;5;241m=\u001b[39m \u001b[38;5;28miter\u001b[39m(DL)\n",
      "File \u001b[1;32m~\\Desktop\\CSE_251B\\PA2\\cse151b251b-wi25-pa2-cse151b_251b_fcnss\\voc.py:82\u001b[0m, in \u001b[0;36mVOC.__init__\u001b[1;34m(self, mode, transform, target_transform)\u001b[0m\n\u001b[0;32m     80\u001b[0m \u001b[38;5;28mself\u001b[39m\u001b[38;5;241m.\u001b[39mimgs \u001b[38;5;241m=\u001b[39m make_dataset(mode)\n\u001b[0;32m     81\u001b[0m \u001b[38;5;28;01mif\u001b[39;00m \u001b[38;5;28mlen\u001b[39m(\u001b[38;5;28mself\u001b[39m\u001b[38;5;241m.\u001b[39mimgs) \u001b[38;5;241m==\u001b[39m \u001b[38;5;241m0\u001b[39m:\n\u001b[1;32m---> 82\u001b[0m     \u001b[38;5;28;01mraise\u001b[39;00m \u001b[38;5;167;01mRuntimeError\u001b[39;00m(\u001b[38;5;124m'\u001b[39m\u001b[38;5;124mFound 0 images, please check the data set\u001b[39m\u001b[38;5;124m'\u001b[39m)\n\u001b[0;32m     83\u001b[0m \u001b[38;5;28mself\u001b[39m\u001b[38;5;241m.\u001b[39mmode \u001b[38;5;241m=\u001b[39m mode\n\u001b[0;32m     84\u001b[0m \u001b[38;5;28mself\u001b[39m\u001b[38;5;241m.\u001b[39mtransform \u001b[38;5;241m=\u001b[39m transform\n",
      "\u001b[1;31mRuntimeError\u001b[0m: Found 0 images, please check the data set"
     ]
    }
   ],
   "source": [
    "batch_size = 1\n",
    "DS = VOC(\"test\", img_transform, mask_transform)\n",
    "DL = DataLoader(DS, batch_size=batch_size, shuffle=True)\n",
    "\n",
    "first_batch = iter(DL)"
   ]
  },
  {
   "cell_type": "code",
   "execution_count": null,
   "id": "9a435b84",
   "metadata": {},
   "outputs": [],
   "source": [
    "imgs, msks = [], []\n",
    "for _ in range(5):\n",
    "    img, msk = next(first_batch)\n",
    "    imgs.append(img)\n",
    "    msks.append(msk)"
   ]
  },
  {
   "cell_type": "markdown",
   "id": "3db7f900",
   "metadata": {},
   "source": [
    "# Show Image"
   ]
  },
  {
   "cell_type": "code",
   "execution_count": null,
   "id": "59a36d18",
   "metadata": {},
   "outputs": [],
   "source": [
    "def makeImagesPlotReady(msk, channels = 3):\n",
    "    \"\"\"\n",
    "    Similar to how you converted the images, make the mask tensor matplotlib ready\n",
    "\n",
    "    args:\n",
    "        msk or img - input mask tensor of shape [1, 3, 224, 224] or numpy of shape (3, 224, 224)\n",
    "    returns:\n",
    "        mask/img - mask that is ready to be plotted using matplotlib.\n",
    "                    Hint: Numpy class of shape (224, 224, 3)\n",
    "    \"\"\"\n",
    "\n",
    "    return (np.rot90(np.rot90(np.rot90((msk.reshape(channels,224,224)).T))))"
   ]
  },
  {
   "cell_type": "code",
   "execution_count": null,
   "id": "5dfb055b",
   "metadata": {},
   "outputs": [],
   "source": [
    "output_images = [makeImagesPlotReady(img, 3) for img in imgs]"
   ]
  },
  {
   "cell_type": "code",
   "execution_count": null,
   "id": "c8b90d9d",
   "metadata": {},
   "outputs": [],
   "source": [
    "fig, axs = plt.subplots(1, 5, figsize=(12, 6))\n",
    "axs = axs.flatten()\n",
    "for i in range(len(output_images)):\n",
    "    axs[i].imshow(output_images[i])\n",
    "    axs[i].axis('off')\n",
    "plt.show()"
   ]
  },
  {
   "cell_type": "markdown",
   "id": "fd48f770",
   "metadata": {},
   "source": [
    "# Show Ground Truth Mask"
   ]
  },
  {
   "cell_type": "code",
   "execution_count": null,
   "id": "f694a9f1",
   "metadata": {},
   "outputs": [],
   "source": [
    "def convertMaskToRGB(msk):\n",
    "    \"\"\"\n",
    "    Given a msk, convert it into rgb for visulization.\n",
    "    \"\"\"\n",
    "    msk = (msk*255).int()\n",
    "    msk[msk==255]=0\n",
    "    msk = msk.reshape((224, 224))\n",
    "    \n",
    "    mask_rgb = np.zeros((3, 224, 224), dtype=np.uint8) # Empty array to store RGB of each class\n",
    "        \n",
    "    for idx, color in palette.items(): # Converting to colors\n",
    "        for j in range(3): # R,G,B            \n",
    "            mask_rgb[j][msk == idx] = color[j]\n",
    "            \n",
    "    return mask_rgb"
   ]
  },
  {
   "cell_type": "code",
   "execution_count": null,
   "id": "3a12ca20",
   "metadata": {},
   "outputs": [],
   "source": [
    "output_msks = [makeImagesPlotReady(convertMaskToRGB(msk), 3) for msk in msks]"
   ]
  },
  {
   "cell_type": "code",
   "execution_count": null,
   "id": "df020981",
   "metadata": {},
   "outputs": [],
   "source": [
    "fig, axs = plt.subplots(1, 5, figsize=(12, 6))\n",
    "axs = axs.flatten()\n",
    "for i in range(len(output_msks)):\n",
    "    axs[i].imshow(output_msks[i])\n",
    "    axs[i].axis('off')\n",
    "plt.show()"
   ]
  },
  {
   "cell_type": "markdown",
   "id": "4d0b5b5d",
   "metadata": {},
   "source": [
    "# Plot Image with the mask"
   ]
  },
  {
   "cell_type": "code",
   "execution_count": null,
   "id": "8077b407",
   "metadata": {},
   "outputs": [],
   "source": [
    "fig, axs = plt.subplots(1, 5, figsize=(12, 6))\n",
    "axs = axs.flatten()\n",
    "for i in range(len(output_msks)):\n",
    "    axs[i].imshow(output_images[i])\n",
    "    axs[i].imshow(output_msks[i], alpha = 0.7)\n",
    "    axs[i].axis('off')\n",
    "plt.show()"
   ]
  },
  {
   "cell_type": "markdown",
   "id": "88ebdc14",
   "metadata": {},
   "source": [
    "# TODO: Visualize Your Model's Predicted Mask\n",
    "\n",
    "1. Load your model\n",
    "2. Use the model to predict those images to obtain masks (hint: use your exportModel function)\n",
    "3. Visualize those masks (without and with images) like we did above"
   ]
  },
  {
   "cell_type": "code",
   "execution_count": null,
   "id": "38eeabae",
   "metadata": {},
   "outputs": [],
   "source": []
  }
 ],
 "metadata": {
  "kernelspec": {
   "display_name": "Python 3 (ipykernel)",
   "language": "python",
   "name": "python3"
  },
  "language_info": {
   "codemirror_mode": {
    "name": "ipython",
    "version": 3
   },
   "file_extension": ".py",
   "mimetype": "text/x-python",
   "name": "python",
   "nbconvert_exporter": "python",
   "pygments_lexer": "ipython3",
   "version": "3.10.16"
  }
 },
 "nbformat": 4,
 "nbformat_minor": 5
}
